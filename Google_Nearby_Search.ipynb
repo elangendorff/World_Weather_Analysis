{
 "cells": [
  {
   "cell_type": "markdown",
   "id": "6fe828e0",
   "metadata": {},
   "source": [
    "# 6.5.4 Map Vacation Criteria"
   ]
  },
  {
   "cell_type": "markdown",
   "id": "83a38388",
   "metadata": {},
   "source": [
    "## Practice Using a Fixed Latitude and Longitude"
   ]
  },
  {
   "cell_type": "code",
   "execution_count": 1,
   "id": "33d06cdc",
   "metadata": {},
   "outputs": [],
   "source": [
    "# Dependencies and Setup\n",
    "import requests\n",
    "import gmaps\n",
    "\n",
    "# Import API key\n",
    "from config import g_key"
   ]
  },
  {
   "cell_type": "code",
   "execution_count": 2,
   "id": "79eb0b91",
   "metadata": {},
   "outputs": [
    {
     "data": {
      "text/plain": [
       "{'error_message': 'The provided API key is invalid.',\n",
       " 'html_attributions': [],\n",
       " 'results': [],\n",
       " 'status': 'REQUEST_DENIED'}"
      ]
     },
     "execution_count": 2,
     "metadata": {},
     "output_type": "execute_result"
    }
   ],
   "source": [
    "# Set hotel search parameters\n",
    "input_parameters = {\n",
    "    'radius':5000,  # meters\n",
    "    'type':'lodging',  # See https://developers.google.com/maps/documentation/places/web-service/supported_types\n",
    "    'key':g_key,\n",
    "    'location':'48.8566,2.3522'\n",
    "}\n",
    "\n",
    "# Base URL to search for hotels in Paris\n",
    "base_url = 'https://maps.googleapis.com/maps/api/place/nearbysearch/json'\n",
    "\n",
    "# Make request and get the JSON data from the search.\n",
    "hotels = requests.get(base_url, params=input_parameters).json()\n",
    "\n",
    "hotels"
   ]
  },
  {
   "cell_type": "code",
   "execution_count": 3,
   "id": "40fb0075",
   "metadata": {},
   "outputs": [
    {
     "data": {
      "text/plain": [
       "0"
      ]
     },
     "execution_count": 3,
     "metadata": {},
     "output_type": "execute_result"
    }
   ],
   "source": [
    "len(hotels['results'])"
   ]
  }
 ],
 "metadata": {
  "kernelspec": {
   "display_name": "PythonData",
   "language": "python",
   "name": "pythondata"
  },
  "language_info": {
   "codemirror_mode": {
    "name": "ipython",
    "version": 3
   },
   "file_extension": ".py",
   "mimetype": "text/x-python",
   "name": "python",
   "nbconvert_exporter": "python",
   "pygments_lexer": "ipython3",
   "version": "3.7.11"
  }
 },
 "nbformat": 4,
 "nbformat_minor": 5
}
