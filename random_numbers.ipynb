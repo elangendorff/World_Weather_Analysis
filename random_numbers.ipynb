{
 "cells": [
  {
   "cell_type": "markdown",
   "id": "7e4587e9",
   "metadata": {},
   "source": [
    "# 6.1.4 Generate Random Latitudes and Longitudes"
   ]
  },
  {
   "cell_type": "code",
   "execution_count": 1,
   "id": "36a0bf1f",
   "metadata": {},
   "outputs": [],
   "source": [
    "# Import the random module\n",
    "import random"
   ]
  },
  {
   "cell_type": "markdown",
   "id": "381fe571",
   "metadata": {},
   "source": [
    "## The `randint()` Function"
   ]
  },
  {
   "cell_type": "code",
   "execution_count": 2,
   "id": "ce7e1840",
   "metadata": {},
   "outputs": [
    {
     "data": {
      "text/plain": [
       "-82"
      ]
     },
     "execution_count": 2,
     "metadata": {},
     "output_type": "execute_result"
    }
   ],
   "source": [
    "random.randint(-90,90)"
   ]
  },
  {
   "cell_type": "markdown",
   "id": "02ee8946",
   "metadata": {},
   "source": [
    "## The `random()` Function"
   ]
  },
  {
   "cell_type": "code",
   "execution_count": 3,
   "id": "fe5a4587",
   "metadata": {},
   "outputs": [
    {
     "data": {
      "text/plain": [
       "0.9861340216504753"
      ]
     },
     "execution_count": 3,
     "metadata": {},
     "output_type": "execute_result"
    }
   ],
   "source": [
    "random.random()"
   ]
  },
  {
   "cell_type": "code",
   "execution_count": 4,
   "id": "fecc3629",
   "metadata": {},
   "outputs": [
    {
     "data": {
      "text/plain": [
       "63.56181137228952"
      ]
     },
     "execution_count": 4,
     "metadata": {},
     "output_type": "execute_result"
    }
   ],
   "source": [
    "random.randint(-90,89) + random.random()"
   ]
  },
  {
   "cell_type": "code",
   "execution_count": 5,
   "id": "e021bd9d",
   "metadata": {},
   "outputs": [
    {
     "data": {
      "text/plain": [
       "[26.26063983827856,\n",
       " -73.43610098724407,\n",
       " -38.886652539916106,\n",
       " 17.997535949041772,\n",
       " 50.73160502999873,\n",
       " -64.31387600200604,\n",
       " 68.68839983473633,\n",
       " 85.42486923583706,\n",
       " 47.60824612654211,\n",
       " 64.55201806389749]"
      ]
     },
     "execution_count": 5,
     "metadata": {},
     "output_type": "execute_result"
    }
   ],
   "source": [
    "x = 1\n",
    "\n",
    "latitudes = []\n",
    "\n",
    "while x < 11:\n",
    "    latitudes.append(random.randint(-90,89) + random.random())\n",
    "    x += 1\n",
    "\n",
    "latitudes"
   ]
  },
  {
   "cell_type": "markdown",
   "id": "5bdc6853",
   "metadata": {},
   "source": [
    "## The `randrange()` Function"
   ]
  },
  {
   "cell_type": "code",
   "execution_count": 6,
   "id": "d3621061",
   "metadata": {},
   "outputs": [
    {
     "data": {
      "text/plain": [
       "-87"
      ]
     },
     "execution_count": 6,
     "metadata": {},
     "output_type": "execute_result"
    }
   ],
   "source": [
    "random.randrange(-90, 90, step=1)"
   ]
  },
  {
   "cell_type": "code",
   "execution_count": 7,
   "id": "e1072114",
   "metadata": {},
   "outputs": [
    {
     "data": {
      "text/plain": [
       "-69"
      ]
     },
     "execution_count": 7,
     "metadata": {},
     "output_type": "execute_result"
    }
   ],
   "source": [
    "random.randrange(-90, 90, step=3)"
   ]
  },
  {
   "cell_type": "markdown",
   "id": "a462298c",
   "metadata": {},
   "source": [
    "## The `uniform()` Function"
   ]
  },
  {
   "cell_type": "code",
   "execution_count": 8,
   "id": "14e65a4a",
   "metadata": {},
   "outputs": [
    {
     "data": {
      "text/plain": [
       "23.54614872934779"
      ]
     },
     "execution_count": 8,
     "metadata": {},
     "output_type": "execute_result"
    }
   ],
   "source": [
    "random.uniform(-90, 90)"
   ]
  },
  {
   "cell_type": "markdown",
   "id": "a310f1b7",
   "metadata": {},
   "source": [
    "## The NumPy and random Modules"
   ]
  },
  {
   "cell_type": "code",
   "execution_count": 9,
   "id": "725237a0",
   "metadata": {},
   "outputs": [],
   "source": [
    "# Import the NumPy module\n",
    "import numpy as np"
   ]
  },
  {
   "cell_type": "code",
   "execution_count": 10,
   "id": "a2379975",
   "metadata": {},
   "outputs": [
    {
     "data": {
      "text/plain": [
       "80.3798212317005"
      ]
     },
     "execution_count": 10,
     "metadata": {},
     "output_type": "execute_result"
    }
   ],
   "source": [
    "np.random.uniform(-90.000, 90.000)"
   ]
  },
  {
   "cell_type": "code",
   "execution_count": 11,
   "id": "f977d862",
   "metadata": {},
   "outputs": [
    {
     "data": {
      "text/plain": [
       "-7.134701520249806"
      ]
     },
     "execution_count": 11,
     "metadata": {},
     "output_type": "execute_result"
    }
   ],
   "source": [
    "np.random.uniform(-90, 90)"
   ]
  },
  {
   "cell_type": "code",
   "execution_count": 12,
   "id": "5f722e2e",
   "metadata": {},
   "outputs": [
    {
     "data": {
      "text/plain": [
       "array([-46.76219516,  50.38651094,  53.46548872,  13.08466278,\n",
       "        43.64666974,  68.73866405,   7.4917868 ,  43.14650367,\n",
       "        82.79771056, -28.60952665, -78.54797795,  89.25860674,\n",
       "        84.51837206,  47.43896187,  13.04011946, -86.38972931,\n",
       "       -59.6201492 ,   4.89020342, -79.19277697,  36.89734688,\n",
       "       -26.50016942,  19.8488142 ,  88.04971435,   5.14582005,\n",
       "       -16.63181098,  52.38267873, -33.84414568,  75.69897842,\n",
       "        65.33708004,  57.51689871,  -4.39474984,  -9.02847514,\n",
       "       -80.87469468,  -6.04290054,  89.9899161 ,  83.68999579,\n",
       "       -71.44157228,  64.38592892,  -1.02583145,  23.99629473,\n",
       "        83.17346486, -64.72468944,  -9.51216757,  24.67428289,\n",
       "       -35.33829585,  74.92436052, -15.13052752,  30.24747206,\n",
       "        52.67966766,  49.69113283])"
      ]
     },
     "execution_count": 12,
     "metadata": {},
     "output_type": "execute_result"
    }
   ],
   "source": [
    "np.random.uniform(-90, 90, size=50)"
   ]
  },
  {
   "cell_type": "code",
   "execution_count": 13,
   "id": "d29d8231",
   "metadata": {},
   "outputs": [],
   "source": [
    "# Import timeit\n",
    "import timeit"
   ]
  },
  {
   "cell_type": "code",
   "execution_count": 14,
   "id": "9e4e48ad",
   "metadata": {},
   "outputs": [
    {
     "name": "stdout",
     "output_type": "stream",
     "text": [
      "19.1 µs ± 121 ns per loop (mean ± std. dev. of 7 runs, 100000 loops each)\n"
     ]
    }
   ],
   "source": [
    "%timeit np.random.uniform(-90, 90, size=1500)"
   ]
  },
  {
   "cell_type": "code",
   "execution_count": 15,
   "id": "69b7be25",
   "metadata": {},
   "outputs": [
    {
     "name": "stdout",
     "output_type": "stream",
     "text": [
      "2.46 ms ± 105 µs per loop (mean ± std. dev. of 7 runs, 100 loops each)\n"
     ]
    }
   ],
   "source": [
    "def latitudes(size):\n",
    "    \n",
    "    latitudes = []\n",
    "    \n",
    "    x = 0\n",
    "    \n",
    "    while x < size:\n",
    "        \n",
    "        latitudes.append(random.randint(-90, 89) + random.random())\n",
    "        \n",
    "        x += 1\n",
    "        \n",
    "    return latitudes\n",
    "\n",
    "# Call the latitudes() funciton with 1500 to compare to np.random.uniform()\n",
    "%timeit latitudes(1500)"
   ]
  },
  {
   "cell_type": "code",
   "execution_count": 16,
   "id": "6d751df5",
   "metadata": {},
   "outputs": [
    {
     "name": "stdout",
     "output_type": "stream",
     "text": [
      "2.48 ms ± 96.9 µs per loop (mean ± std. dev. of 7 runs, 100 loops each)\n"
     ]
    }
   ],
   "source": [
    "def latitudes2(size):\n",
    "    \n",
    "    latitudes = []\n",
    "    \n",
    "    x = 0\n",
    "    \n",
    "    for x in range(size):\n",
    "        \n",
    "        latitudes.append(random.randint(-90, 89) + random.random())\n",
    "        \n",
    "    return latitudes\n",
    "\n",
    "# Call the latitudes() funciton with 1500 to compare to np.random.uniform()\n",
    "%timeit latitudes2(1500)"
   ]
  }
 ],
 "metadata": {
  "kernelspec": {
   "display_name": "PythonData",
   "language": "python",
   "name": "pythondata"
  },
  "language_info": {
   "codemirror_mode": {
    "name": "ipython",
    "version": 3
   },
   "file_extension": ".py",
   "mimetype": "text/x-python",
   "name": "python",
   "nbconvert_exporter": "python",
   "pygments_lexer": "ipython3",
   "version": "3.7.11"
  }
 },
 "nbformat": 4,
 "nbformat_minor": 5
}
