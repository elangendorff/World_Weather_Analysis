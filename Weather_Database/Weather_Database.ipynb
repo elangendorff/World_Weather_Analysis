{
 "cells": [
  {
   "cell_type": "markdown",
   "id": "8c52afd6",
   "metadata": {},
   "source": [
    "# Module 6 Challenge"
   ]
  },
  {
   "cell_type": "markdown",
   "id": "226b9c57",
   "metadata": {},
   "source": [
    "## Deliverable 1"
   ]
  },
  {
   "cell_type": "code",
   "execution_count": 5,
   "id": "1b3f92be",
   "metadata": {},
   "outputs": [],
   "source": [
    "# Import dependencies\n",
    "from citipy import citipy\n",
    "# from datetime import datetime\n",
    "# import matplotlib.pyplot as plt\n",
    "import numpy as np\n",
    "import os\n",
    "import pandas as pd\n",
    "import requests\n",
    "import time\n",
    "\n",
    "# Import API keys from config.py file (one level up)\n",
    "import sys\n",
    "sys.path.insert(0, '../')\n",
    "from config import weather_api_key, g_key"
   ]
  },
  {
   "cell_type": "code",
   "execution_count": 2,
   "id": "d7db6a0b",
   "metadata": {},
   "outputs": [
    {
     "name": "stdout",
     "output_type": "stream",
     "text": [
      "Found 736 cities.\n"
     ]
    }
   ],
   "source": [
    "# Create list for holding cities\n",
    "cities = []\n",
    "list_length = 2000\n",
    "\n",
    "# Create a set of random latitude and longitude combinations\n",
    "lats = np.random.uniform(-90,90,size=list_length)\n",
    "lngs = np.random.uniform(-180,180,size=list_length)\n",
    "\n",
    "lat_lngs = zip(lats,lngs)\n",
    "\n",
    "coordinates = list(lat_lngs)\n",
    "\n",
    "# Identify nearest city for each latitude-longitude combination\n",
    "for coord in coordinates:\n",
    "    city = citipy.nearest_city(coord[0], coord[1]).city_name\n",
    "\n",
    "    # If city is unique, add it to cities list\n",
    "    if city not in cities:\n",
    "        cities.append(city)\n",
    "\n",
    "print(f\"Found {len(cities):,} cities.\")"
   ]
  },
  {
   "cell_type": "code",
   "execution_count": 3,
   "id": "7f5d2928",
   "metadata": {},
   "outputs": [],
   "source": [
    "# Import requests library\n",
    "import requests\n",
    "\n",
    "# Import API key\n",
    "from config import weather_api_key"
   ]
  },
  {
   "cell_type": "markdown",
   "id": "9d979814",
   "metadata": {},
   "source": [
    "### The next cell takes approximately fifteen minutes to run. To avoid this lengthy delay on subsequent runs, disable the cells that follow up till the relevant note below by changing their Cell Types to Raw NBConvert (hotkey R).\n",
    "# ▼Disable▼"
   ]
  },
  {
   "cell_type": "code",
   "execution_count": null,
   "id": "71bbca95",
   "metadata": {},
   "outputs": [],
   "source": [
    "# Create an empty list to hold the weather data.\n",
    "city_data = []\n",
    "\n",
    "# Print the beginning of the logging.\n",
    "print(\"Beginning Data Retrieval     \")\n",
    "print(\"-----------------------------\")\n",
    "\n",
    "# Create counters.\n",
    "## record_count = 1\n",
    "record_count = 0  # Allows us to move the incrementer to the start of the loop below\n",
    "set_count = 1\n",
    "\n",
    "# Loop through all cities in the list\n",
    "for i, city in enumerate(cities):\n",
    "    \n",
    "    # Increment record count.\n",
    "    record_count += 1\n",
    "\n",
    "    # Group cities in sets of 50 for logging purposes.\n",
    "    if (i % 50 == 0 and 50 <= i):\n",
    "        set_count += 1\n",
    "        record_count = 1\n",
    "        print(\"-----------------------------\")\n",
    "        print(f\"Preparing Set {set_count}.\")\n",
    "        print(\"-----------------------------\")\n",
    "        time.sleep(60)\n",
    "\n",
    "    # Create endpoint URL with each city.\n",
    "    city_url = 'https://api.openweathermap.org/data/2.5/weather?units=imperial&appid=' \\\n",
    "                + weather_api_key + \"&q=\" + city.replace(\" \",\"+\")\n",
    "\n",
    "    # Log the URL, record, and set numbers and the city.\n",
    "    print(f\"Processing Record {record_count} of Set {set_count} | {city}\", end=\"\")\n",
    "    \n",
    "    # Run an API request for each of the cities.\n",
    "    try:\n",
    "        # Parse the JSON and retrieve data.\n",
    "        city_weather = requests.get(city_url).json()\n",
    "\n",
    "        # Parse out the needed data.\n",
    "        city_lat = city_weather[\"coord\"][\"lat\"]\n",
    "        city_lng = city_weather[\"coord\"][\"lon\"]\n",
    "        city_country = city_weather[\"sys\"][\"country\"]\n",
    "        city_max_temp = city_weather[\"main\"][\"temp_max\"]\n",
    "        city_humidity = city_weather[\"main\"][\"humidity\"]\n",
    "        city_clouds = city_weather[\"clouds\"][\"all\"]\n",
    "        city_wind = city_weather[\"wind\"][\"speed\"]\n",
    "        city_desc = city_weather[\"weather\"][0][\"description\"]\n",
    "\n",
    "        # Convert the date to ISO standard.\n",
    "#         city_date = datetime.utcfromtimestamp(city_weather[\"dt\"]).strftime('%Y-%m-%d %H:%M:%S')\n",
    "\n",
    "        # Append the city information into the city_data list.\n",
    "        city_data.append({\n",
    "            \"City\": city.title(),  # The `.title()` method converts the `city` string to title case\n",
    "            \"Country\": city_country,\n",
    "#             \"Date\": city_date,\n",
    "            \"Lat\": city_lat,\n",
    "            \"Lng\": city_lng,\n",
    "            \"Max Temp\": city_max_temp,\n",
    "            \"Humidity\": city_humidity,\n",
    "            \"Cloudiness\": city_clouds,\n",
    "            \"Wind Speed\": city_wind,\n",
    "            \"Current Description\": city_desc\n",
    "        })\n",
    "\n",
    "        # Empty print statement only to provide a newline character following\n",
    "        # the \"Processing Record…\" statement if the `try` succeeds.\n",
    "        print()  \n",
    "\n",
    "    # If an error is experienced, skip the city.\n",
    "    except:\n",
    "        print(\" | City not found. Skipping...\")\n",
    "        pass\n",
    "\n",
    "# Indicate that Data Loading is complete.\n",
    "print(\"-----------------------------\")\n",
    "print(\"Data Retrieval Complete      \")\n",
    "print(\"-----------------------------\")\n",
    "print(f'\\nFound data for {len(city_data):,} cities.')"
   ]
  },
  {
   "cell_type": "code",
   "execution_count": null,
   "id": "d8b2f922",
   "metadata": {},
   "outputs": [],
   "source": [
    "# Convert the array of dictionaries to a Pandas DataFrame\n",
    "df_city_data = pd.DataFrame(city_data)\n",
    "\n",
    "df_city_data.head(10)"
   ]
  },
  {
   "cell_type": "code",
   "execution_count": null,
   "id": "c40c6fdb",
   "metadata": {},
   "outputs": [],
   "source": [
    "# Reorder the columns\n",
    "column_order = ['City','Country','Lat','Lng','Max Temp','Humidity','Cloudiness','Wind Speed','Current Description']\n",
    "\n",
    "df_city_data = df_city_data[column_order]\n",
    "\n",
    "df_city_data.head(10)"
   ]
  },
  {
   "cell_type": "code",
   "execution_count": null,
   "id": "d55455d8",
   "metadata": {},
   "outputs": [],
   "source": [
    "# Create the output file (CSV)\n",
    "# output_filepath = os.path.join('.','Weather_Database','WeatherPy_Database.csv')\n",
    "output_filepath = os.path.join('.','WeatherPy_Database.csv')\n",
    "\n",
    "# Export the City_Data into a CSV\n",
    "df_city_data.to_csv(output_filepath, index_label='City_ID')"
   ]
  },
  {
   "cell_type": "markdown",
   "id": "c11e25c4",
   "metadata": {},
   "source": [
    "# ▲Disable▲"
   ]
  },
  {
   "cell_type": "markdown",
   "id": "218fe1fd",
   "metadata": {},
   "source": [
    "### The next cell recreates a DataFrame from a previous run of the cells between the Disable tags above. Enable it by changing its cell type to Code (hotkey Y)."
   ]
  },
  {
   "cell_type": "raw",
   "id": "dfff3c44",
   "metadata": {},
   "source": [
    "city_data_path = os.path.join('.','WeatherPy_Database.csv')\n",
    "\n",
    "df_city_data = pd.read_csv(city_data_path)\n",
    "df_city_data = df_city_data.set_index('City_ID')\n",
    "df_city_data.index.name = None\n",
    "\n",
    "df_city_data.head()"
   ]
  }
 ],
 "metadata": {
  "kernelspec": {
   "display_name": "PythonData",
   "language": "python",
   "name": "pythondata"
  },
  "language_info": {
   "codemirror_mode": {
    "name": "ipython",
    "version": 3
   },
   "file_extension": ".py",
   "mimetype": "text/x-python",
   "name": "python",
   "nbconvert_exporter": "python",
   "pygments_lexer": "ipython3",
   "version": "3.7.11"
  }
 },
 "nbformat": 4,
 "nbformat_minor": 5
}
